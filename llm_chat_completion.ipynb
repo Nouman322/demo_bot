{
 "cells": [
  {
   "cell_type": "code",
   "execution_count": 13,
   "metadata": {},
   "outputs": [],
   "source": [
    "import os\n",
    "from openai import OpenAI\n",
    "from dotenv import load_dotenv\n",
    "load_dotenv()\n",
    "\n",
    "from func import generate_response_gpt,check_response,recommend_chat\n",
    "\n",
    "os.environ[\"OPENAI_API_KEY\"] = os.getenv(\"OPENAI_API_KEY\")\n"
   ]
  },
  {
   "cell_type": "code",
   "execution_count": null,
   "metadata": {},
   "outputs": [],
   "source": []
  },
  {
   "cell_type": "code",
   "execution_count": 14,
   "metadata": {},
   "outputs": [],
   "source": [
    "questions = [\n",
    "    \"What motivates your current job or service search?\",\n",
    "    \"Would you describe your current work or mission as a calling?\",\n",
    "    \"How would you articulate your life mission in a few words?\",\n",
    "    \"How significant is your faith in influencing your career choices?\",\n",
    "    \"Do you prefer working with organizations that share your faith or values?\",\n",
    "    \"What is your current city and country of residence?\",\n",
    "    \"What is your nationality?\",\n",
    "    \"Are you open to relocating? If yes, where?\",\n",
    "    \"What types of work are you interested in?\",\n",
    "    \"What work environment do you prefer?\"\n",
    "]\n"
   ]
  },
  {
   "cell_type": "code",
   "execution_count": 15,
   "metadata": {},
   "outputs": [],
   "source": [
    "# from langchain_core.messages import HumanMessage, AIMessage\n",
    "\n",
    "# first_question = \"What’s motivating your job or service search right now?\"\n",
    "# print(first_question)\n",
    "\n",
    "# user_input = input(\"Enter your response to first question: \")\n",
    "\n",
    "# chat_history = []\n",
    "\n",
    "# if \"valid\" in check_response(first_question,user_input):\n",
    "#     # Store conversation history properly\n",
    "#     chat_history = [\n",
    "#         AIMessage(content=first_question),  # AI asks the first question\n",
    "#         HumanMessage(content=user_input),   # User's response\n",
    "#     ]\n",
    "\n",
    "# while True:\n",
    "\n",
    "#     if chat_history:\n",
    "\n",
    "#         last_ai_message = chat_history[-2].content.lower()\n",
    "    \n",
    "#         # questions.remove(chat_history[-2].content)\n",
    "\n",
    "#         # Find a question that exists in the last AI message\n",
    "#         question_to_remove = None\n",
    "#         for question in questions:\n",
    "#             if all(word in last_ai_message for word in question.lower().split()):  # Check if all words are present\n",
    "#                 question_to_remove = question\n",
    "                \n",
    "#                 break\n",
    "#         # Remove the matched question if found\n",
    "#         if question_to_remove:\n",
    "#             questions.remove(question_to_remove)\n",
    "    \n",
    "#     response = recommend_chat(user_input, chat_history, questions)  # Generate next question\n",
    "#     print(\"response is:\", response)\n",
    "\n",
    "#     user_input = input(\"Enter your response: \")\n",
    "\n",
    "#     if user_input.lower() == \"quit\":\n",
    "#         break\n",
    "\n",
    "\n",
    "#     if \"valid\" in check_response(first_question,user_input):\n",
    "\n",
    "#         # Store AI's question and user's response properly\n",
    "#         chat_history.append(AIMessage(content=response))  # AI's generated question\n",
    "#         chat_history.append(HumanMessage(content=user_input))  # User's response\n"
   ]
  },
  {
   "cell_type": "code",
   "execution_count": null,
   "metadata": {},
   "outputs": [
    {
     "name": "stdout",
     "output_type": "stream",
     "text": [
      "What’s motivating your job or service search right now?\n",
      "response is: Would you describe your current work or mission as a calling?\n",
      "response is: Would you describe your current work or mission as a calling?\n",
      "response is: Would you describe your current work or mission as a calling?\n"
     ]
    }
   ],
   "source": [
    "from langchain_core.messages import HumanMessage, AIMessage\n",
    "\n",
    "def ask_question(question):\n",
    "    \"\"\"Prints the AI-generated question and collects user input.\"\"\"\n",
    "    print(question)\n",
    "    return input(\"Enter your response: \")\n",
    "\n",
    "def is_valid_response(question, response):\n",
    "    \"\"\"Checks if the user response is valid using check_response().\"\"\"\n",
    "    return \"valid\" in (check_response(question, response)).lower() or \"skip\" in (check_response(question,response)).lower()\n",
    "\n",
    "def remove_asked_question(chat_history, questions):\n",
    "    \"\"\"Removes a question from the list if it was previously asked.\"\"\"\n",
    "    if not chat_history:\n",
    "        return\n",
    "\n",
    "    last_ai_message = chat_history[-2].content.lower()\n",
    "\n",
    "    for question in questions:\n",
    "        if all(word in last_ai_message for word in question.lower().split()):  \n",
    "            questions.remove(question)\n",
    "            break  # Stop at the first match\n",
    "\n",
    "# Initialize variables\n",
    "questions = [\n",
    "    \"What’s motivating your job or service search right now?\",\n",
    "    \"Would you describe your current work or mission as a calling?\",\n",
    "    \"How would you articulate your life mission in a few words?\",\n",
    "    \"How significant is your faith in influencing your career choices?\",\n",
    "    \"Do you prefer working with organizations that share your faith or values?\",\n",
    "    \"What is your current city and country of residence?\",\n",
    "    \"What is your nationality?\",\n",
    "    \"Are you open to relocating? If yes, where?\",\n",
    "    \"What types of work are you interested in?\",\n",
    "    \"What work environment do you prefer?\"\n",
    "]\n",
    "\n",
    "first_question = questions.pop(0)  # Get the first question\n",
    "user_input = ask_question(first_question)\n",
    "\n",
    "chat_history = []\n",
    "\n",
    "# Validate the first response before adding it to history\n",
    "if is_valid_response(first_question, user_input):\n",
    "    chat_history.extend([AIMessage(content=first_question), HumanMessage(content=user_input)])\n",
    "\n",
    "while True:\n",
    "    # Remove previously asked question (if any)\n",
    "    remove_asked_question(chat_history, questions)\n",
    "\n",
    "    # Generate the next question\n",
    "    response = recommend_chat(user_input, chat_history, questions)  \n",
    "    print(\"response is:\", response)\n",
    "\n",
    "    user_input = input(\"Enter your response: \").strip()\n",
    "\n",
    "    if user_input.lower() == \"quit\" or len(chat_history)>=10:\n",
    "        \"Great, let me do a little science and show the Impacts that match your skills! 🚀\"  # Exit condition\n",
    "\n",
    "    if is_valid_response(response, user_input):\n",
    "        chat_history.extend([AIMessage(content=response), HumanMessage(content=user_input)])  # Store conversation history\n"
   ]
  },
  {
   "cell_type": "code",
   "execution_count": 4,
   "metadata": {},
   "outputs": [
    {
     "name": "stdout",
     "output_type": "stream",
     "text": [
      "[\"Hello there! I'm VOGO, your friendly assistant...\", \"I'm curious about the role of faith...\", \"Let's talk about your work preferences...\", 'Language skills can open up...', 'Relocating for work can be...', \"Let's discuss your income expectations...\", 'Your experience and skills are...', \"Finally, let's talk about your availability...\"]\n"
     ]
    }
   ],
   "source": [
    "questions_list = [\n",
    "    '**Purpose & Calling**', \n",
    "    \"Hello there! I'm VOGO, your friendly assistant...\", \n",
    "    'Faith Alignment**', \n",
    "    \"I'm curious about the role of faith...\", \n",
    "    'Location & Work Modality**', \n",
    "    \"Let's talk about your work preferences...\", \n",
    "    'Language Proficiency**', \n",
    "    \"Language skills can open up...\", \n",
    "    'Visa & Relocation Support**', \n",
    "    'Relocating for work can be...', \n",
    "    'Compensation**', \n",
    "    \"Let's discuss your income expectations...\", \n",
    "    'Experience, Skills & Strengths**', \n",
    "    'Your experience and skills are...', \n",
    "    'Availability & Final Snapshot**', \n",
    "    \"Finally, let's talk about your availability...\"\n",
    "]\n",
    "\n",
    "# Phrases to remove (with ** to match the format)\n",
    "phrases_to_remove = [\n",
    "    'Purpose & Calling',\n",
    "    'Faith Alignment',\n",
    "    'Location & Work Modality',\n",
    "    'Language Proficiency',\n",
    "    'Visa & Relocation Support',\n",
    "    'Compensation',\n",
    "    'Experience, Skills & Strengths',\n",
    "    'Availability & Final Snapshot'\n",
    "]\n",
    "questions_list = [question.replace('**', '') for question in questions_list]  # Remove ** from questions_list\n",
    "# Filter the list\n",
    "filtered_list = [item for item in questions_list \n",
    "                if not any(item.startswith(phrase) for phrase in phrases_to_remove)]\n",
    "\n",
    "print(filtered_list)"
   ]
  },
  {
   "cell_type": "code",
   "execution_count": 5,
   "metadata": {},
   "outputs": [
    {
     "data": {
      "text/plain": [
       "8"
      ]
     },
     "execution_count": 5,
     "metadata": {},
     "output_type": "execute_result"
    }
   ],
   "source": [
    "len(filtered_list)"
   ]
  },
  {
   "cell_type": "code",
   "execution_count": 12,
   "metadata": {},
   "outputs": [
    {
     "data": {
      "text/plain": [
       "[AIMessage(content='Would you describe your current work or mission as a calling?', additional_kwargs={}, response_metadata={}),\n",
       " HumanMessage(content='yes I would call it my dream job', additional_kwargs={}, response_metadata={}),\n",
       " AIMessage(content='How would you articulate your life mission in a few words?', additional_kwargs={}, response_metadata={}),\n",
       " HumanMessage(content='\"My life mission is to inspire growth, create meaningful impact, and contribute to the well-being of others through my work and actions.\"', additional_kwargs={}, response_metadata={}),\n",
       " AIMessage(content='How significant is your faith in influencing your career choices?', additional_kwargs={}, response_metadata={}),\n",
       " HumanMessage(content='not that important', additional_kwargs={}, response_metadata={})]"
      ]
     },
     "execution_count": 12,
     "metadata": {},
     "output_type": "execute_result"
    }
   ],
   "source": [
    "chat_history"
   ]
  },
  {
   "cell_type": "code",
   "execution_count": 10,
   "metadata": {},
   "outputs": [
    {
     "data": {
      "text/plain": [
       "['Do you prefer working with organizations that share your faith or values?',\n",
       " 'What is your current city and country of residence?',\n",
       " 'What is your nationality?',\n",
       " 'Are you open to relocating? If yes, where?',\n",
       " 'What types of work are you interested in?',\n",
       " 'What work environment do you prefer?']"
      ]
     },
     "execution_count": 10,
     "metadata": {},
     "output_type": "execute_result"
    }
   ],
   "source": [
    "questions"
   ]
  },
  {
   "cell_type": "code",
   "execution_count": 9,
   "metadata": {},
   "outputs": [],
   "source": [
    "\n",
    "from langchain_openai import ChatOpenAI\n",
    "from langchain_core.prompts import ChatPromptTemplate\n",
    "from langchain_core.output_parsers import StrOutputParser\n",
    "import os\n",
    "import streamlit as st\n",
    "from dotenv import load_dotenv\n",
    "import base64\n",
    "import re\n",
    "from PIL import Image\n",
    "load_dotenv()\n",
    "# from .get_info_db import get_info_by_name\n",
    "from openai import OpenAI\n"
   ]
  },
  {
   "cell_type": "code",
   "execution_count": 10,
   "metadata": {},
   "outputs": [],
   "source": [
    "def generate_response_gpt(prompt, question = ''):\n",
    "        \n",
    "    llm=ChatOpenAI(model=\"gpt-4\",temperature=0.2)\n",
    "    output_parser=StrOutputParser()\n",
    "    chain=prompt|llm|output_parser\n",
    "    res = chain.invoke({'info':f\"{question}\"})\n",
    "    return res\n",
    "    "
   ]
  },
  {
   "cell_type": "code",
   "execution_count": 13,
   "metadata": {},
   "outputs": [],
   "source": [
    "def get_intro():\n",
    "    \n",
    "    prompt = ChatPromptTemplate.from_messages(\n",
    "            [\n",
    "                (\n",
    "                    \"system\",\n",
    "                    \"\"\"\n",
    "        Your task is to generate a unique, friendly introduction for a chatbot based on the sample below. The goal is to warmly welcome the user and briefly explain the purpose of the conversation.\n",
    "\n",
    "        Sample Introduction:\n",
    "        \"Hi there! I’m your VoGo assistant. Let’s take 3–4 minutes to understand your purpose, experience, and preferences so we can connect you with meaningful opportunities.\"\n",
    "\n",
    "        Important:\n",
    "        - Do **not** copy the sample.\n",
    "        - Rephrase it creatively while keeping the tone warm, helpful, and efficient.\n",
    "\n",
    "        Output Format:\n",
    "        Introduction: <AI-generated introduction>\n",
    "                    \"\"\"\n",
    "                )\n",
    "            ]\n",
    "        )\n",
    "\n",
    "    # context = f\"Context: {context}\"         \n",
    "    gt = generate_response_gpt(prompt=prompt)\n",
    "\n",
    "    return gt\n"
   ]
  },
  {
   "cell_type": "code",
   "execution_count": 15,
   "metadata": {},
   "outputs": [],
   "source": [
    "introduction = get_intro()"
   ]
  },
  {
   "cell_type": "code",
   "execution_count": 21,
   "metadata": {},
   "outputs": [],
   "source": [
    "intro = introduction.split(':')[-1].replace('\"',\"\").replace(\"'\",\"\").strip()"
   ]
  },
  {
   "cell_type": "code",
   "execution_count": 22,
   "metadata": {},
   "outputs": [
    {
     "data": {
      "text/plain": [
       "'Hello! Im your dedicated Chatbot Companion. Well spend a few moments together to grasp your needs, past experiences, and interests, aiming to link you with valuable possibilities. Lets get started!'"
      ]
     },
     "execution_count": 22,
     "metadata": {},
     "output_type": "execute_result"
    }
   ],
   "source": [
    "intro"
   ]
  },
  {
   "cell_type": "code",
   "execution_count": null,
   "metadata": {},
   "outputs": [],
   "source": []
  }
 ],
 "metadata": {
  "kernelspec": {
   "display_name": "venv",
   "language": "python",
   "name": "python3"
  },
  "language_info": {
   "codemirror_mode": {
    "name": "ipython",
    "version": 3
   },
   "file_extension": ".py",
   "mimetype": "text/x-python",
   "name": "python",
   "nbconvert_exporter": "python",
   "pygments_lexer": "ipython3",
   "version": "3.12.3"
  }
 },
 "nbformat": 4,
 "nbformat_minor": 2
}
